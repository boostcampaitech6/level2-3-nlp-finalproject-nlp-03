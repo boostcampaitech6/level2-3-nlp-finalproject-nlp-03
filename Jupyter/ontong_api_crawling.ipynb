{
 "cells": [
  {
   "cell_type": "code",
   "execution_count": 37,
   "metadata": {},
   "outputs": [
    {
     "name": "stdout",
     "output_type": "stream",
     "text": [
      "Requirement already satisfied: bs4 in /home/gyuni/miniforge3/envs/final_env/lib/python3.9/site-packages (0.0.2)\n",
      "Requirement already satisfied: beautifulsoup4 in /home/gyuni/miniforge3/envs/final_env/lib/python3.9/site-packages (from bs4) (4.12.3)\n",
      "Requirement already satisfied: soupsieve>1.2 in /home/gyuni/miniforge3/envs/final_env/lib/python3.9/site-packages (from beautifulsoup4->bs4) (2.5)\n",
      "Requirement already satisfied: pandas in /home/gyuni/miniforge3/envs/final_env/lib/python3.9/site-packages (2.2.1)\n",
      "Requirement already satisfied: numpy<2,>=1.22.4 in /home/gyuni/miniforge3/envs/final_env/lib/python3.9/site-packages (from pandas) (1.26.4)\n",
      "Requirement already satisfied: python-dateutil>=2.8.2 in /home/gyuni/miniforge3/envs/final_env/lib/python3.9/site-packages (from pandas) (2.8.2)\n",
      "Requirement already satisfied: pytz>=2020.1 in /home/gyuni/miniforge3/envs/final_env/lib/python3.9/site-packages (from pandas) (2024.1)\n",
      "Requirement already satisfied: tzdata>=2022.7 in /home/gyuni/miniforge3/envs/final_env/lib/python3.9/site-packages (from pandas) (2024.1)\n",
      "Requirement already satisfied: six>=1.5 in /home/gyuni/miniforge3/envs/final_env/lib/python3.9/site-packages (from python-dateutil>=2.8.2->pandas) (1.16.0)\n"
     ]
    }
   ],
   "source": [
    "# 라이브러리 import\n",
    "! pip install bs4\n",
    "! pip install pandas\n",
    "import pandas as pd\n",
    "from bs4 import BeautifulSoup\n",
    "import requests\n",
    "import time\n",
    "import pprint"
   ]
  },
  {
   "cell_type": "code",
   "execution_count": 38,
   "metadata": {},
   "outputs": [
    {
     "name": "stdout",
     "output_type": "stream",
     "text": [
      "262038\n",
      "262038\n",
      "249243\n",
      "250392\n",
      "257486\n",
      "154743\n"
     ]
    }
   ],
   "source": [
    "\n",
    "### 중앙부처 데이터만 저장할 수 있도록 만든 코드입니다. 지자체나 지역별 데이터 저장을 원하면 수정하여 활용하시길 바랍니다.\n",
    "## 1. 온통 청년 API로 정책 html 불러오기\n",
    "key = 'YOUR_API_KEY' ### 여기에 신청한 본인의 key를 넣어야 합니다!\n",
    "page = ['0', '1', '2', '3', '4', '5'] # 조회할 페이지, 총 정책 수가 업데이트로 인해 늘어나면 현재 '0' ~ '4'인 페이지를 추가해야 할 수도 있음. 예) page = ['0', '1', '2', '3', '4', '5']\n",
    "outputNum = '100' # 출력건수, 기본 10 최대 100\n",
    "#region = '003002015' # 지역별로 조회하고 싶다면 지역 코드를 지정하면 됨. 여러 지역을 동시에 조회하고 싶다면 쉼표(,)로 코드를 연결해 주면 됨. 예) '003002015,003002014'\n",
    "\n",
    "contents = ''\n",
    "for p in page:\n",
    "    #queryParams = 'pageIndex=' + page + '&display=' + outputNum + '&openApiVlak=' + key + '&srchPolyBizSecd=' + region # 지역별로 조회하게 되면 page를 더 적게 지정해야 할 수도 있음.\n",
    "    queryParams = 'pageIndex=' + p + '&display=' + outputNum + '&openApiVlak=' + key\n",
    "    url = 'https://www.youthcenter.go.kr/opi/youthPlcyList.do?'+ queryParams\n",
    "\n",
    "    # url 불러오기\n",
    "    response = requests.get(url)\n",
    "    #print(type(response))\n",
    "    print(len(response.text)) # 130으로 나오는 경우 해당 페이지에 출력할 정책이 없는 경우임, 즉 130 이전 page까지만 포함시키면 됨.\n",
    "\n",
    "    #데이터 값 출력해보기\n",
    "    contents += response.text\n",
    "    #print(type(contents)) # string 객체로 바뀜"
   ]
  },
  {
   "cell_type": "code",
   "execution_count": 39,
   "metadata": {},
   "outputs": [
    {
     "name": "stdout",
     "output_type": "stream",
     "text": [
      "('<?xml version=\"1.0\" encoding=\"UTF-8\"?>\\n'\n",
      " '<youthPolicyList>\\n'\n",
      " '   <pageIndex>1</pageIndex>\\n'\n",
      " '   <totalCnt>459</totalCnt>\\n'\n",
      " '   <youthPolicy>\\n'\n",
      " '      <rnum>1</rnum>\\n'\n",
      " '      <bizId><![CDATA[R2024030420277]]></bizId>\\n'\n",
      " '      <polyBizSecd>003001016002</polyBizSecd>\\n'\n",
      " '      <polyBizTy>중앙부처</polyBizTy>\\n'\n",
      " '      <polyBizSjnm><![CDATA[산모·신생아 건강관리 지원사업]]></polyBizSjnm>\\n'\n",
      " '      <polyItcnCn><![CDATA[출산가정에 건강관리사를 파견하여 산후관리를 지원함으로써 산모와 신생아의 건강을 증진하고 '\n",
      " '출산가정의 경제적 부담을 경감합니다.]]></polyItcnCn>\\n'\n",
      " '      <sporCn><![CDATA[□ 정부 바우처 이용자에게 기본적으로 제공되는 표준화된 서비스 지원\\r\\n'\n",
      " '※ 자세한 내용은 첨부된 파일을 참고]]></sporCn>\\n'\n",
      " '      <sporScvl><![CDATA[-]]></sporScvl>\\n'\n",
      " '      <bizPrdCn><![CDATA[2024.01.01 ~ 2024.12.31]]></bizPrdCn>\\n'\n",
      " '      <prdRpttSecd><![CDATA[002001]]></prdRpttSecd>\\n'\n",
      " '      <rqutPrdCn><![CDATA[-]]></rqutPrdCn>\\n'\n",
      " '      <ageInfo><![CDATA[제한없음]]></ageInfo>\\n'\n",
      " '      <majrRqisCn><![CDATA[-]]></majrRqisCn>\\n'\n",
      " '      <empmSttsCn><![CDATA[-]]></empmSttsCn>\\n'\n",
      " '      <splzRlmRqisCn><![CDATA[-]]></splzRlmRqisCn>\\n'\n",
      " '      <accrRqisCn><![CDATA[-]]></accrRqisCn>\\n'\n",
      " '      <prcpCn><![CDATA[□ 산모 또는 배우자가 「국민기초생활 보장법」에 따른 생계·의료·주거·교육급여 수급자 또는 '\n",
      " '차상위계층*에 해당하는 출산가정\\r\\n'\n",
      " '※ 차상위본인부담경감, 차상위자활, 차상위장애인, 차상위자격확인\\r\\n'\n",
      " '□ 산모 및 배우자 등 해당가구의 건강보험료 본인부담금 합산액이 기준중위소득 150%이하 금액에 해당하는 출산가정\\r\\n'\n",
      " '※ 임신 16주 이후 발생한 유산･사산의 경우도 지원대상에 포함]]></prcpCn>\\n'\n",
      " '      <aditRscn><![CDATA[-]]></aditRscn>\\n'\n",
      " '      <prcpLmttTrgtCn><![CDATA[기본지원 대상 소득 기준을 초과하더라도 예산(보전금+지방비)범위 내에서 '\n",
      " '광역시･도지사가 별도 소득기준을 정하여 승인한 아래 출산 가정(또는 산모)]]></prcpLmttTrgtCn>\\n'\n",
      " '      <rqutProcCn><![CDATA[방문, 인터넷]]></rqutProcCn>\\n'\n",
      " '      <pstnPaprCn><![CDATA[사회보장급여(사회서비스이용권) 신청(변경)서 또는 임신서비스 통합처리 신청서 각 '\n",
      " '1부]]></pstnPaprCn>\\n'\n",
      " '      <jdgnPresCn><![CDATA[-]]></jdgnPresCn>\\n'\n",
      " '      <rqutUrla><![CDATA[-]]></rqutUrla>\\n'\n",
      " '      <rfcSiteUrla1><![CDATA[-]]></rfcSiteUrla1>\\n'\n",
      " '      <rfcSiteUrla2><![CDATA[-]]></rfcSiteUrla2>\\n'\n",
      " '      <mngtMson><![CDATA[사회서비스사업과]]></mngtMson>\\n'\n",
      " '      <mngtMrofCherCn><![CDATA[김현아]]></mngtMrofCherCn>\\n'\n",
      " '      <cherCtpcCn><![CDATA[044-202-3223]]></cherCtpcCn>\\n'\n",
      " '      <cnsgNmor><![CDATA[사회서비스사업과]]></cnsgNmor>\\n'\n",
      " '      <tintCherCn><![CDATA[김현아]]></tintCherCn>\\n'\n",
      " '      <tintCherCtpcCn><![CDATA[044-202-3223]]></tintCherCtpcCn>\\n'\n",
      " '      <etct><![CDATA[-]]></etct>\\n'\n",
      " '      <polyRlmCd><![CDATA[023040]]></polyRlmCd>\\n'\n",
      " '   </youthPolicy>\\n'\n",
      " '   <youthPolicy>\\n'\n",
      " '      <rnum>2</rnum>\\n'\n",
      " '      <bizId><![CDATA[R2024030420290]]></bizId>\\n'\n",
      " '      <polyBizSecd>003002014019</polyBizSecd>\\n'\n",
      " '      <polyBizTy>지자체</polyBizTy>\\n'\n",
      " '      <polyBizSjnm><![CDATA[전세보증금반환보증 보증료 지원]]></polyBizSjnm>\\n'\n",
      " '      <polyItcnCn><![CDATA[전세보증금반환보증 보증료 지원(최대 30만원)]]></polyItcnCn>\\n'\n",
      " '      <sporCn><![CDATA[□ 지원 내용\\r\\n'\n",
      " '○ 전세보증금반환보증 보증료 지원(최대 30만원)\\r\\n'\n",
      " '- 청년* 임차인 : 신청인이 기납부한 보증료(최대 30만원)\\r\\n'\n",
      " '- 청년*외 임차인 : 신청인이 기납부한 보증료의 90%(최대 30만원)\\r\\n'\n",
      " '- 신혼부부** 임차인 : 신청인이 기납부한 보증료(최대 30만원)\\r\\n'\n",
      " '* 청년 : 19~39세\\r\\n'\n",
      " '** 신청일 기준 혼인신고일이 7년 이내인 부부(연령 무관)]]></sporCn>\\n'\n",
      " '      <sporScvl><![CDATA[null]]></sporScvl>\\n'\n",
      " '      <bizPrdCn><![CDATA[2024-03-04~2024-12-31]]></bizPrdCn>\\n'\n",
      " '      <prdRpttSecd><![CDATA[002004]]></prdRpttSecd>\\n'\n",
      " '      <rqutPrdCn><![CDATA[2024-03-04~2024-12-31]]></rqutPrdCn>\\n'\n",
      " '      <ageInfo><![CDATA[만 19세 ~ 39세]]></ageInfo>\\n'\n",
      " '      <majrRqisCn><![CDATA[-]]></majrRqisCn>\\n'\n",
      " '      <empmStts')\n",
      "None\n"
     ]
    }
   ],
   "source": [
    "# 데이터 결과값 예쁘게 출력해주는 코드\n",
    "pp = pprint.PrettyPrinter(indent=4, depth=None)\n",
    "print(pp.pprint(contents[:3000]))"
   ]
  },
  {
   "cell_type": "code",
   "execution_count": 40,
   "metadata": {},
   "outputs": [
    {
     "name": "stderr",
     "output_type": "stream",
     "text": [
      "/home/gyuni/miniforge3/envs/final_env/lib/python3.9/html/parser.py:170: XMLParsedAsHTMLWarning: It looks like you're parsing an XML document using an HTML parser. If this really is an HTML document (maybe it's XHTML?), you can ignore or filter this warning. If it's XML, you should know that using an XML parser will be more reliable. To parse this document as XML, make sure you have the lxml package installed, and pass the keyword argument `features=\"xml\"` into the BeautifulSoup constructor.\n",
      "  k = self.parse_starttag(i)\n"
     ]
    }
   ],
   "source": [
    "## 2. BeautifulSoup으로 html parsing\n",
    "soup = BeautifulSoup(contents, 'html.parser')\n",
    "#finded_values=soup.find_all('ageInfo')\n",
    "#[x.text for x in finded_values] # .text를 통해 안의 내용물만을 불러옵니다"
   ]
  },
  {
   "cell_type": "code",
   "execution_count": 41,
   "metadata": {},
   "outputs": [
    {
     "name": "stdout",
     "output_type": "stream",
     "text": [
      "현재 총 정책 수: 459\n"
     ]
    }
   ],
   "source": [
    "print('현재 총 정책 수:', soup.find('totalcnt').text.replace('<totalcnt>', '').replace('</totalcnt>', ''))"
   ]
  },
  {
   "cell_type": "code",
   "execution_count": 42,
   "metadata": {},
   "outputs": [
    {
     "name": "stdout",
     "output_type": "stream",
     "text": [
      "33\n",
      "33\n"
     ]
    }
   ],
   "source": [
    "## 3. df 생성\n",
    "YouthPolicyInfo = {}\n",
    "# attr 이름 모두 소문자로\n",
    "#attr_to_find_list=['polybizsjnm','sporcn', 'ageinfo','majrrqiscn','empmsttscn','splzrlmrqiscn','accrrqiscn','prcpcn','aditrscn','prcplmtttrgtcn']\n",
    "attr_to_find_list=['rnum', 'bizid', 'polybizsecd', 'polybizty', 'polybizsjnm', 'polyitcncn', 'sporcn', 'sporscvl', 'bizprdcn', 'prdrpttsecd', 'rqutprdcn', \n",
    "                   'ageinfo','majrrqiscn','empmsttscn','splzrlmrqiscn','accrrqiscn','prcpcn','aditrscn','prcplmtttrgtcn',\n",
    "                   'rqutproccn', 'pstnpaprcn', 'jdgnprescn', 'rquturla', 'rfcsiteurla1', 'rfcsiteurla2', 'mngtmson', 'mngtmrofchercn', 'cherctpccn',\n",
    "                   'cnsgnmor', 'tintchercn', 'tintcherctpccn', 'etct', 'polyrlmcd'] # 모두 소문자여야 함.\n",
    "print(len(attr_to_find_list))\n",
    "\n",
    "for each_attr in attr_to_find_list:\n",
    "    finded_attr=soup.find_all(each_attr)\n",
    "    YouthPolicyInfo[each_attr]=[x.text for x in finded_attr]\n",
    "\n",
    "df = pd.DataFrame(YouthPolicyInfo)\n",
    "#alt_colnames = ['정책명', '지원내용', '연령', '전공요건', '취업상태', '특화분화', '학력', '거주지및소득', '추가단서', '참여제한']\n",
    "alt_colnames = ['번호', '정책 ID', '정책 일련번호', '기관 및 지자체 구분', '정책명', '정책 소개', '지원 내용', '지원 규모', '사업 운영 기간', '사업 신청 기간 반복 구분 코드', '사업 신청 기간', \n",
    "                '연령', '전공', '취업 상태', '특화 분화', '학력', '거주지 및 소득', '추가 단서 사항', '참여 제한 대상', \n",
    "                '신청 절차', '제출 서류', '심사 발표', '신청 사이트 주소', '참고 사이트 주소1', '참고 사이트 주소2', '주관 부처명', '주관 부처 담당자 이름', '주관 부처 담당자 연락처',\n",
    "                '운영 기관명', '운영 기관 담당자 이름', '운영 기관 담당자 연락처', '기타 사항', '정책 분야 코드']\n",
    "print(len(alt_colnames))\n",
    "\n",
    "df.columns = alt_colnames"
   ]
  },
  {
   "cell_type": "code",
   "execution_count": 43,
   "metadata": {},
   "outputs": [
    {
     "name": "stdout",
     "output_type": "stream",
     "text": [
      "(559, 33)\n"
     ]
    },
    {
     "data": {
      "text/html": [
       "<div>\n",
       "<style scoped>\n",
       "    .dataframe tbody tr th:only-of-type {\n",
       "        vertical-align: middle;\n",
       "    }\n",
       "\n",
       "    .dataframe tbody tr th {\n",
       "        vertical-align: top;\n",
       "    }\n",
       "\n",
       "    .dataframe thead th {\n",
       "        text-align: right;\n",
       "    }\n",
       "</style>\n",
       "<table border=\"1\" class=\"dataframe\">\n",
       "  <thead>\n",
       "    <tr style=\"text-align: right;\">\n",
       "      <th></th>\n",
       "      <th>번호</th>\n",
       "      <th>정책 ID</th>\n",
       "      <th>정책 일련번호</th>\n",
       "      <th>기관 및 지자체 구분</th>\n",
       "      <th>정책명</th>\n",
       "      <th>정책 소개</th>\n",
       "      <th>지원 내용</th>\n",
       "      <th>지원 규모</th>\n",
       "      <th>사업 운영 기간</th>\n",
       "      <th>사업 신청 기간 반복 구분 코드</th>\n",
       "      <th>...</th>\n",
       "      <th>참고 사이트 주소1</th>\n",
       "      <th>참고 사이트 주소2</th>\n",
       "      <th>주관 부처명</th>\n",
       "      <th>주관 부처 담당자 이름</th>\n",
       "      <th>주관 부처 담당자 연락처</th>\n",
       "      <th>운영 기관명</th>\n",
       "      <th>운영 기관 담당자 이름</th>\n",
       "      <th>운영 기관 담당자 연락처</th>\n",
       "      <th>기타 사항</th>\n",
       "      <th>정책 분야 코드</th>\n",
       "    </tr>\n",
       "  </thead>\n",
       "  <tbody>\n",
       "    <tr>\n",
       "      <th>0</th>\n",
       "      <td>1</td>\n",
       "      <td>R2024030420277</td>\n",
       "      <td>003001016002</td>\n",
       "      <td>중앙부처</td>\n",
       "      <td>산모·신생아 건강관리 지원사업</td>\n",
       "      <td>출산가정에 건강관리사를 파견하여 산후관리를 지원함으로써 산모와 신생아의 건강을 증진...</td>\n",
       "      <td>□ 정부 바우처 이용자에게 기본적으로 제공되는 표준화된 서비스 지원\\r\\n※ 자세한...</td>\n",
       "      <td>-</td>\n",
       "      <td>2024.01.01 ~ 2024.12.31</td>\n",
       "      <td>002001</td>\n",
       "      <td>...</td>\n",
       "      <td>-</td>\n",
       "      <td>-</td>\n",
       "      <td>사회서비스사업과</td>\n",
       "      <td>김현아</td>\n",
       "      <td>044-202-3223</td>\n",
       "      <td>사회서비스사업과</td>\n",
       "      <td>김현아</td>\n",
       "      <td>044-202-3223</td>\n",
       "      <td>-</td>\n",
       "      <td>023040</td>\n",
       "    </tr>\n",
       "    <tr>\n",
       "      <th>1</th>\n",
       "      <td>2</td>\n",
       "      <td>R2024030420290</td>\n",
       "      <td>003002014019</td>\n",
       "      <td>지자체</td>\n",
       "      <td>전세보증금반환보증 보증료 지원</td>\n",
       "      <td>전세보증금반환보증 보증료 지원(최대 30만원)</td>\n",
       "      <td>□ 지원 내용\\r\\n○ 전세보증금반환보증 보증료 지원(최대 30만원)\\r\\n- 청년...</td>\n",
       "      <td>null</td>\n",
       "      <td>2024-03-04~2024-12-31</td>\n",
       "      <td>002004</td>\n",
       "      <td>...</td>\n",
       "      <td>http://gbyouth.co.kr/policy/list.tc?mn=2379&amp;pa...</td>\n",
       "      <td>-</td>\n",
       "      <td>국토교통부</td>\n",
       "      <td>-</td>\n",
       "      <td>칠곡군 일자리경제과 (054-979-6547)</td>\n",
       "      <td>칠곡군</td>\n",
       "      <td>-</td>\n",
       "      <td>칠곡군 일자리경제과 (054-979-6547)</td>\n",
       "      <td>-</td>\n",
       "      <td>023020</td>\n",
       "    </tr>\n",
       "    <tr>\n",
       "      <th>2</th>\n",
       "      <td>3</td>\n",
       "      <td>R2024030420289</td>\n",
       "      <td>003002014018</td>\n",
       "      <td>지자체</td>\n",
       "      <td>전세보증금반환보증 보증료 지원</td>\n",
       "      <td>전세보증금반환보증 보증료 지원(최대 30만원)</td>\n",
       "      <td>□ 지원 내용\\r\\n○ 전세보증금반환보증 보증료 지원(최대 30만원)\\r\\n- 청년...</td>\n",
       "      <td>null</td>\n",
       "      <td>2024-03-04~2024-12-31</td>\n",
       "      <td>002004</td>\n",
       "      <td>...</td>\n",
       "      <td>http://gbyouth.co.kr/policy/list.tc?mn=2379&amp;pa...</td>\n",
       "      <td>-</td>\n",
       "      <td>국토교통부</td>\n",
       "      <td>-</td>\n",
       "      <td>성주군 일자리지원팀(054-930-6712)</td>\n",
       "      <td>성주군</td>\n",
       "      <td>-</td>\n",
       "      <td>성주군 일자리지원팀(054-930-6712)</td>\n",
       "      <td>-</td>\n",
       "      <td>023020</td>\n",
       "    </tr>\n",
       "    <tr>\n",
       "      <th>3</th>\n",
       "      <td>4</td>\n",
       "      <td>R2024030420276</td>\n",
       "      <td>003002014013</td>\n",
       "      <td>지자체</td>\n",
       "      <td>전세보증금반환보증 보험료 지원</td>\n",
       "      <td>전세보증금반환보증 보증료 지원(최대 30만원)</td>\n",
       "      <td>□ 지원 내용\\r\\n○ 전세보증금반환보증 보증료 지원(최대 30만원)\\r\\n- 청년...</td>\n",
       "      <td>null</td>\n",
       "      <td>2024-03-04~2024-12-31</td>\n",
       "      <td>002004</td>\n",
       "      <td>...</td>\n",
       "      <td>http://gbyouth.co.kr/policy/list.tc?mn=2379&amp;pa...</td>\n",
       "      <td>-</td>\n",
       "      <td>국토교통부</td>\n",
       "      <td>-</td>\n",
       "      <td>청송군청 기획감사실 행복일자리팀(054-870-6454)</td>\n",
       "      <td>청송군</td>\n",
       "      <td>-</td>\n",
       "      <td>청송군청 기획감사실 행복일자리팀(054-870-6454)</td>\n",
       "      <td>-</td>\n",
       "      <td>023020</td>\n",
       "    </tr>\n",
       "    <tr>\n",
       "      <th>4</th>\n",
       "      <td>5</td>\n",
       "      <td>R2024030420275</td>\n",
       "      <td>003002014005</td>\n",
       "      <td>지자체</td>\n",
       "      <td>전세보증금반환보증 보증료 지원</td>\n",
       "      <td>전세보증금반환보증 보증료 지원(최대 30만원)</td>\n",
       "      <td>□ 지원 내용\\r\\n○ 전세보증금반환보증 보증료 지원(최대 30만원)\\r\\n- 청년...</td>\n",
       "      <td>null</td>\n",
       "      <td>2024-03-04~2024-12-31</td>\n",
       "      <td>002004</td>\n",
       "      <td>...</td>\n",
       "      <td>http://gbyouth.co.kr/policy/list.tc?mn=2379&amp;pa...</td>\n",
       "      <td>-</td>\n",
       "      <td>국토교통부</td>\n",
       "      <td>-</td>\n",
       "      <td>구미시 인구청년과(054-480-2523)</td>\n",
       "      <td>구미시</td>\n",
       "      <td>-</td>\n",
       "      <td>구미시 인구청년과(054-480-2523)</td>\n",
       "      <td>-</td>\n",
       "      <td>023020</td>\n",
       "    </tr>\n",
       "  </tbody>\n",
       "</table>\n",
       "<p>5 rows × 33 columns</p>\n",
       "</div>"
      ],
      "text/plain": [
       "  번호           정책 ID       정책 일련번호 기관 및 지자체 구분               정책명  \\\n",
       "0  1  R2024030420277  003001016002        중앙부처  산모·신생아 건강관리 지원사업   \n",
       "1  2  R2024030420290  003002014019         지자체  전세보증금반환보증 보증료 지원   \n",
       "2  3  R2024030420289  003002014018         지자체  전세보증금반환보증 보증료 지원   \n",
       "3  4  R2024030420276  003002014013         지자체  전세보증금반환보증 보험료 지원   \n",
       "4  5  R2024030420275  003002014005         지자체  전세보증금반환보증 보증료 지원   \n",
       "\n",
       "                                               정책 소개  \\\n",
       "0  출산가정에 건강관리사를 파견하여 산후관리를 지원함으로써 산모와 신생아의 건강을 증진...   \n",
       "1                          전세보증금반환보증 보증료 지원(최대 30만원)   \n",
       "2                          전세보증금반환보증 보증료 지원(최대 30만원)   \n",
       "3                          전세보증금반환보증 보증료 지원(최대 30만원)   \n",
       "4                          전세보증금반환보증 보증료 지원(최대 30만원)   \n",
       "\n",
       "                                               지원 내용 지원 규모  \\\n",
       "0  □ 정부 바우처 이용자에게 기본적으로 제공되는 표준화된 서비스 지원\\r\\n※ 자세한...     -   \n",
       "1  □ 지원 내용\\r\\n○ 전세보증금반환보증 보증료 지원(최대 30만원)\\r\\n- 청년...  null   \n",
       "2  □ 지원 내용\\r\\n○ 전세보증금반환보증 보증료 지원(최대 30만원)\\r\\n- 청년...  null   \n",
       "3  □ 지원 내용\\r\\n○ 전세보증금반환보증 보증료 지원(최대 30만원)\\r\\n- 청년...  null   \n",
       "4  □ 지원 내용\\r\\n○ 전세보증금반환보증 보증료 지원(최대 30만원)\\r\\n- 청년...  null   \n",
       "\n",
       "                  사업 운영 기간 사업 신청 기간 반복 구분 코드  ...  \\\n",
       "0  2024.01.01 ~ 2024.12.31            002001  ...   \n",
       "1    2024-03-04~2024-12-31            002004  ...   \n",
       "2    2024-03-04~2024-12-31            002004  ...   \n",
       "3    2024-03-04~2024-12-31            002004  ...   \n",
       "4    2024-03-04~2024-12-31            002004  ...   \n",
       "\n",
       "                                          참고 사이트 주소1 참고 사이트 주소2    주관 부처명  \\\n",
       "0                                                  -          -  사회서비스사업과   \n",
       "1  http://gbyouth.co.kr/policy/list.tc?mn=2379&pa...          -     국토교통부   \n",
       "2  http://gbyouth.co.kr/policy/list.tc?mn=2379&pa...          -     국토교통부   \n",
       "3  http://gbyouth.co.kr/policy/list.tc?mn=2379&pa...          -     국토교통부   \n",
       "4  http://gbyouth.co.kr/policy/list.tc?mn=2379&pa...          -     국토교통부   \n",
       "\n",
       "  주관 부처 담당자 이름                    주관 부처 담당자 연락처    운영 기관명 운영 기관 담당자 이름  \\\n",
       "0          김현아                     044-202-3223  사회서비스사업과          김현아   \n",
       "1            -        칠곡군 일자리경제과 (054-979-6547)       칠곡군            -   \n",
       "2            -         성주군 일자리지원팀(054-930-6712)       성주군            -   \n",
       "3            -  청송군청 기획감사실 행복일자리팀(054-870-6454)       청송군            -   \n",
       "4            -          구미시 인구청년과(054-480-2523)       구미시            -   \n",
       "\n",
       "                     운영 기관 담당자 연락처 기타 사항 정책 분야 코드  \n",
       "0                     044-202-3223     -   023040  \n",
       "1        칠곡군 일자리경제과 (054-979-6547)     -   023020  \n",
       "2         성주군 일자리지원팀(054-930-6712)     -   023020  \n",
       "3  청송군청 기획감사실 행복일자리팀(054-870-6454)     -   023020  \n",
       "4          구미시 인구청년과(054-480-2523)     -   023020  \n",
       "\n",
       "[5 rows x 33 columns]"
      ]
     },
     "execution_count": 43,
     "metadata": {},
     "output_type": "execute_result"
    }
   ],
   "source": [
    "print(df.shape)\n",
    "df.head()"
   ]
  },
  {
   "cell_type": "code",
   "execution_count": 44,
   "metadata": {},
   "outputs": [],
   "source": [
    "## 4. 부족한 정보 추가\n",
    "# 4-1. 정책 분야 추가\n",
    "polysec = []\n",
    "for code in df['정책 분야 코드']:\n",
    "    if code == '023010':\n",
    "        polysec.append('일자리 분야')\n",
    "    elif code == '023020':\n",
    "        polysec.append('주거 분야')\n",
    "    elif code == '023030':\n",
    "        polysec.append('교육 분야')\n",
    "    elif code == '023040':\n",
    "        polysec.append('복지·문화 분야')\n",
    "    elif code == '023050':\n",
    "        polysec.append('참여·권리 분야')\n",
    "    else:\n",
    "        polysec.append('코드 매칭 분야 없음')\n",
    "\n",
    "df['정책 분야'] = polysec"
   ]
  },
  {
   "cell_type": "code",
   "execution_count": 45,
   "metadata": {},
   "outputs": [],
   "source": [
    "# 4-2. 온통 청년 url 추가\n",
    "df['온통 청년 url'] = \"https://www.youthcenter.go.kr/youngPlcyUnif/youngPlcyUnifDtl.do?pageIndex=1&frameYn=&bizId=\" + df['정책 ID'] + \"&dtlOpenYn=&plcyTpOpenTy=&plcyCmprInfo=&srchWord=&chargerOrgCdAll=&srchAge=&trgtJynEmp=&trgtJynEmp=&srchSortOrder=1&pageUnit=12\""
   ]
  },
  {
   "cell_type": "code",
   "execution_count": 46,
   "metadata": {},
   "outputs": [
    {
     "name": "stdout",
     "output_type": "stream",
     "text": [
      "(559, 35)\n"
     ]
    },
    {
     "data": {
      "text/html": [
       "<div>\n",
       "<style scoped>\n",
       "    .dataframe tbody tr th:only-of-type {\n",
       "        vertical-align: middle;\n",
       "    }\n",
       "\n",
       "    .dataframe tbody tr th {\n",
       "        vertical-align: top;\n",
       "    }\n",
       "\n",
       "    .dataframe thead th {\n",
       "        text-align: right;\n",
       "    }\n",
       "</style>\n",
       "<table border=\"1\" class=\"dataframe\">\n",
       "  <thead>\n",
       "    <tr style=\"text-align: right;\">\n",
       "      <th></th>\n",
       "      <th>번호</th>\n",
       "      <th>정책 ID</th>\n",
       "      <th>정책 일련번호</th>\n",
       "      <th>기관 및 지자체 구분</th>\n",
       "      <th>정책명</th>\n",
       "      <th>정책 소개</th>\n",
       "      <th>지원 내용</th>\n",
       "      <th>지원 규모</th>\n",
       "      <th>사업 운영 기간</th>\n",
       "      <th>사업 신청 기간 반복 구분 코드</th>\n",
       "      <th>...</th>\n",
       "      <th>주관 부처명</th>\n",
       "      <th>주관 부처 담당자 이름</th>\n",
       "      <th>주관 부처 담당자 연락처</th>\n",
       "      <th>운영 기관명</th>\n",
       "      <th>운영 기관 담당자 이름</th>\n",
       "      <th>운영 기관 담당자 연락처</th>\n",
       "      <th>기타 사항</th>\n",
       "      <th>정책 분야 코드</th>\n",
       "      <th>정책 분야</th>\n",
       "      <th>온통 청년 url</th>\n",
       "    </tr>\n",
       "  </thead>\n",
       "  <tbody>\n",
       "    <tr>\n",
       "      <th>0</th>\n",
       "      <td>1</td>\n",
       "      <td>R2024030420277</td>\n",
       "      <td>003001016002</td>\n",
       "      <td>중앙부처</td>\n",
       "      <td>산모·신생아 건강관리 지원사업</td>\n",
       "      <td>출산가정에 건강관리사를 파견하여 산후관리를 지원함으로써 산모와 신생아의 건강을 증진...</td>\n",
       "      <td>□ 정부 바우처 이용자에게 기본적으로 제공되는 표준화된 서비스 지원\\r\\n※ 자세한...</td>\n",
       "      <td>-</td>\n",
       "      <td>2024.01.01 ~ 2024.12.31</td>\n",
       "      <td>002001</td>\n",
       "      <td>...</td>\n",
       "      <td>사회서비스사업과</td>\n",
       "      <td>김현아</td>\n",
       "      <td>044-202-3223</td>\n",
       "      <td>사회서비스사업과</td>\n",
       "      <td>김현아</td>\n",
       "      <td>044-202-3223</td>\n",
       "      <td>-</td>\n",
       "      <td>023040</td>\n",
       "      <td>복지·문화 분야</td>\n",
       "      <td>https://www.youthcenter.go.kr/youngPlcyUnif/yo...</td>\n",
       "    </tr>\n",
       "    <tr>\n",
       "      <th>1</th>\n",
       "      <td>2</td>\n",
       "      <td>R2024030420290</td>\n",
       "      <td>003002014019</td>\n",
       "      <td>지자체</td>\n",
       "      <td>전세보증금반환보증 보증료 지원</td>\n",
       "      <td>전세보증금반환보증 보증료 지원(최대 30만원)</td>\n",
       "      <td>□ 지원 내용\\r\\n○ 전세보증금반환보증 보증료 지원(최대 30만원)\\r\\n- 청년...</td>\n",
       "      <td>null</td>\n",
       "      <td>2024-03-04~2024-12-31</td>\n",
       "      <td>002004</td>\n",
       "      <td>...</td>\n",
       "      <td>국토교통부</td>\n",
       "      <td>-</td>\n",
       "      <td>칠곡군 일자리경제과 (054-979-6547)</td>\n",
       "      <td>칠곡군</td>\n",
       "      <td>-</td>\n",
       "      <td>칠곡군 일자리경제과 (054-979-6547)</td>\n",
       "      <td>-</td>\n",
       "      <td>023020</td>\n",
       "      <td>주거 분야</td>\n",
       "      <td>https://www.youthcenter.go.kr/youngPlcyUnif/yo...</td>\n",
       "    </tr>\n",
       "    <tr>\n",
       "      <th>2</th>\n",
       "      <td>3</td>\n",
       "      <td>R2024030420289</td>\n",
       "      <td>003002014018</td>\n",
       "      <td>지자체</td>\n",
       "      <td>전세보증금반환보증 보증료 지원</td>\n",
       "      <td>전세보증금반환보증 보증료 지원(최대 30만원)</td>\n",
       "      <td>□ 지원 내용\\r\\n○ 전세보증금반환보증 보증료 지원(최대 30만원)\\r\\n- 청년...</td>\n",
       "      <td>null</td>\n",
       "      <td>2024-03-04~2024-12-31</td>\n",
       "      <td>002004</td>\n",
       "      <td>...</td>\n",
       "      <td>국토교통부</td>\n",
       "      <td>-</td>\n",
       "      <td>성주군 일자리지원팀(054-930-6712)</td>\n",
       "      <td>성주군</td>\n",
       "      <td>-</td>\n",
       "      <td>성주군 일자리지원팀(054-930-6712)</td>\n",
       "      <td>-</td>\n",
       "      <td>023020</td>\n",
       "      <td>주거 분야</td>\n",
       "      <td>https://www.youthcenter.go.kr/youngPlcyUnif/yo...</td>\n",
       "    </tr>\n",
       "    <tr>\n",
       "      <th>3</th>\n",
       "      <td>4</td>\n",
       "      <td>R2024030420276</td>\n",
       "      <td>003002014013</td>\n",
       "      <td>지자체</td>\n",
       "      <td>전세보증금반환보증 보험료 지원</td>\n",
       "      <td>전세보증금반환보증 보증료 지원(최대 30만원)</td>\n",
       "      <td>□ 지원 내용\\r\\n○ 전세보증금반환보증 보증료 지원(최대 30만원)\\r\\n- 청년...</td>\n",
       "      <td>null</td>\n",
       "      <td>2024-03-04~2024-12-31</td>\n",
       "      <td>002004</td>\n",
       "      <td>...</td>\n",
       "      <td>국토교통부</td>\n",
       "      <td>-</td>\n",
       "      <td>청송군청 기획감사실 행복일자리팀(054-870-6454)</td>\n",
       "      <td>청송군</td>\n",
       "      <td>-</td>\n",
       "      <td>청송군청 기획감사실 행복일자리팀(054-870-6454)</td>\n",
       "      <td>-</td>\n",
       "      <td>023020</td>\n",
       "      <td>주거 분야</td>\n",
       "      <td>https://www.youthcenter.go.kr/youngPlcyUnif/yo...</td>\n",
       "    </tr>\n",
       "    <tr>\n",
       "      <th>4</th>\n",
       "      <td>5</td>\n",
       "      <td>R2024030420275</td>\n",
       "      <td>003002014005</td>\n",
       "      <td>지자체</td>\n",
       "      <td>전세보증금반환보증 보증료 지원</td>\n",
       "      <td>전세보증금반환보증 보증료 지원(최대 30만원)</td>\n",
       "      <td>□ 지원 내용\\r\\n○ 전세보증금반환보증 보증료 지원(최대 30만원)\\r\\n- 청년...</td>\n",
       "      <td>null</td>\n",
       "      <td>2024-03-04~2024-12-31</td>\n",
       "      <td>002004</td>\n",
       "      <td>...</td>\n",
       "      <td>국토교통부</td>\n",
       "      <td>-</td>\n",
       "      <td>구미시 인구청년과(054-480-2523)</td>\n",
       "      <td>구미시</td>\n",
       "      <td>-</td>\n",
       "      <td>구미시 인구청년과(054-480-2523)</td>\n",
       "      <td>-</td>\n",
       "      <td>023020</td>\n",
       "      <td>주거 분야</td>\n",
       "      <td>https://www.youthcenter.go.kr/youngPlcyUnif/yo...</td>\n",
       "    </tr>\n",
       "  </tbody>\n",
       "</table>\n",
       "<p>5 rows × 35 columns</p>\n",
       "</div>"
      ],
      "text/plain": [
       "  번호           정책 ID       정책 일련번호 기관 및 지자체 구분               정책명  \\\n",
       "0  1  R2024030420277  003001016002        중앙부처  산모·신생아 건강관리 지원사업   \n",
       "1  2  R2024030420290  003002014019         지자체  전세보증금반환보증 보증료 지원   \n",
       "2  3  R2024030420289  003002014018         지자체  전세보증금반환보증 보증료 지원   \n",
       "3  4  R2024030420276  003002014013         지자체  전세보증금반환보증 보험료 지원   \n",
       "4  5  R2024030420275  003002014005         지자체  전세보증금반환보증 보증료 지원   \n",
       "\n",
       "                                               정책 소개  \\\n",
       "0  출산가정에 건강관리사를 파견하여 산후관리를 지원함으로써 산모와 신생아의 건강을 증진...   \n",
       "1                          전세보증금반환보증 보증료 지원(최대 30만원)   \n",
       "2                          전세보증금반환보증 보증료 지원(최대 30만원)   \n",
       "3                          전세보증금반환보증 보증료 지원(최대 30만원)   \n",
       "4                          전세보증금반환보증 보증료 지원(최대 30만원)   \n",
       "\n",
       "                                               지원 내용 지원 규모  \\\n",
       "0  □ 정부 바우처 이용자에게 기본적으로 제공되는 표준화된 서비스 지원\\r\\n※ 자세한...     -   \n",
       "1  □ 지원 내용\\r\\n○ 전세보증금반환보증 보증료 지원(최대 30만원)\\r\\n- 청년...  null   \n",
       "2  □ 지원 내용\\r\\n○ 전세보증금반환보증 보증료 지원(최대 30만원)\\r\\n- 청년...  null   \n",
       "3  □ 지원 내용\\r\\n○ 전세보증금반환보증 보증료 지원(최대 30만원)\\r\\n- 청년...  null   \n",
       "4  □ 지원 내용\\r\\n○ 전세보증금반환보증 보증료 지원(최대 30만원)\\r\\n- 청년...  null   \n",
       "\n",
       "                  사업 운영 기간 사업 신청 기간 반복 구분 코드  ...    주관 부처명 주관 부처 담당자 이름  \\\n",
       "0  2024.01.01 ~ 2024.12.31            002001  ...  사회서비스사업과          김현아   \n",
       "1    2024-03-04~2024-12-31            002004  ...     국토교통부            -   \n",
       "2    2024-03-04~2024-12-31            002004  ...     국토교통부            -   \n",
       "3    2024-03-04~2024-12-31            002004  ...     국토교통부            -   \n",
       "4    2024-03-04~2024-12-31            002004  ...     국토교통부            -   \n",
       "\n",
       "                     주관 부처 담당자 연락처    운영 기관명 운영 기관 담당자 이름  \\\n",
       "0                     044-202-3223  사회서비스사업과          김현아   \n",
       "1        칠곡군 일자리경제과 (054-979-6547)       칠곡군            -   \n",
       "2         성주군 일자리지원팀(054-930-6712)       성주군            -   \n",
       "3  청송군청 기획감사실 행복일자리팀(054-870-6454)       청송군            -   \n",
       "4          구미시 인구청년과(054-480-2523)       구미시            -   \n",
       "\n",
       "                     운영 기관 담당자 연락처 기타 사항 정책 분야 코드     정책 분야  \\\n",
       "0                     044-202-3223     -   023040  복지·문화 분야   \n",
       "1        칠곡군 일자리경제과 (054-979-6547)     -   023020     주거 분야   \n",
       "2         성주군 일자리지원팀(054-930-6712)     -   023020     주거 분야   \n",
       "3  청송군청 기획감사실 행복일자리팀(054-870-6454)     -   023020     주거 분야   \n",
       "4          구미시 인구청년과(054-480-2523)     -   023020     주거 분야   \n",
       "\n",
       "                                           온통 청년 url  \n",
       "0  https://www.youthcenter.go.kr/youngPlcyUnif/yo...  \n",
       "1  https://www.youthcenter.go.kr/youngPlcyUnif/yo...  \n",
       "2  https://www.youthcenter.go.kr/youngPlcyUnif/yo...  \n",
       "3  https://www.youthcenter.go.kr/youngPlcyUnif/yo...  \n",
       "4  https://www.youthcenter.go.kr/youngPlcyUnif/yo...  \n",
       "\n",
       "[5 rows x 35 columns]"
      ]
     },
     "execution_count": 46,
     "metadata": {},
     "output_type": "execute_result"
    }
   ],
   "source": [
    "print(df.shape)\n",
    "df.head()"
   ]
  },
  {
   "cell_type": "code",
   "execution_count": 47,
   "metadata": {},
   "outputs": [
    {
     "data": {
      "text/plain": [
       "array(['복지·문화 분야', '주거 분야', '교육 분야', '일자리 분야', '참여·권리 분야'], dtype=object)"
      ]
     },
     "execution_count": 47,
     "metadata": {},
     "output_type": "execute_result"
    }
   ],
   "source": [
    "# 정책 분야 카테고리 확인\n",
    "df['정책 분야'].unique()"
   ]
  },
  {
   "cell_type": "code",
   "execution_count": 48,
   "metadata": {},
   "outputs": [
    {
     "name": "stdout",
     "output_type": "stream",
     "text": [
      "정책명\n",
      "전세보증금반환보증 보증료 지원                        34\n",
      "2024년 상반기 예술창작공간 입주작가 모집                 8\n",
      "청년도전지원사업                                 3\n",
      "2024년 청년도전 지원사업                          3\n",
      "청춘사진관 이력서사진 무료 촬영(양주시)                   2\n",
      "                                        ..\n",
      "(대학생) 2024년 경상남도청소년참여위원회 모집              1\n",
      "2024년 생애최초 청년창업 지원사업 예비창업자 모집 공고(수정)     1\n",
      "2024 충남관광 스타트업 육성지원                      1\n",
      "성남시 청년 재창업 지원                            1\n",
      "학자금대출 신용유의자 신용회복 지원사업                    1\n",
      "Name: count, Length: 433, dtype: int64\n"
     ]
    }
   ],
   "source": [
    "## 5. 중복 데이터 제거\n",
    "# 5-1. 중복 데이터 확인\n",
    "print(df['정책명'].value_counts())\n",
    "#df['정책명'].unique()"
   ]
  },
  {
   "cell_type": "code",
   "execution_count": 49,
   "metadata": {},
   "outputs": [
    {
     "name": "stdout",
     "output_type": "stream",
     "text": [
      "(559, 35)\n",
      "(459, 35)\n"
     ]
    }
   ],
   "source": [
    "# 5-2. 중복 제거\n",
    "print(df.shape)\n",
    "df = df.drop_duplicates()\n",
    "print(df.shape)"
   ]
  },
  {
   "cell_type": "code",
   "execution_count": 50,
   "metadata": {},
   "outputs": [
    {
     "data": {
      "text/plain": [
       "array(['중앙부처', '지자체'], dtype=object)"
      ]
     },
     "execution_count": 50,
     "metadata": {},
     "output_type": "execute_result"
    }
   ],
   "source": [
    "## 6. 중앙부처 데이터만 가져오기\n",
    "# 6-1. 중앙부처/지자체 구분 확인\n",
    "df['기관 및 지자체 구분'].unique()"
   ]
  },
  {
   "cell_type": "code",
   "execution_count": 51,
   "metadata": {},
   "outputs": [],
   "source": [
    "# 6-2. 중앙부처 정책만 있는 df 생성\n",
    "df_head = df[df['기관 및 지자체 구분']=='중앙부처']"
   ]
  },
  {
   "cell_type": "code",
   "execution_count": 52,
   "metadata": {},
   "outputs": [
    {
     "data": {
      "text/plain": [
       "'2024-03-04'"
      ]
     },
     "execution_count": 52,
     "metadata": {},
     "output_type": "execute_result"
    }
   ],
   "source": [
    "from datetime import datetime\n",
    "\n",
    "# 현재 날짜와 시간을 얻기\n",
    "current_date = datetime.now()\n",
    "\n",
    "# 현재 날짜를 YYYY-MM-DD 형식으로 출력\n",
    "formatted_date = current_date.strftime('%Y-%m-%d')\n",
    "formatted_date"
   ]
  },
  {
   "cell_type": "code",
   "execution_count": 53,
   "metadata": {},
   "outputs": [
    {
     "data": {
      "text/plain": [
       "'/home/gyuni/projects/level2-3-nlp-finalproject-nlp-03/Jupyter'"
      ]
     },
     "execution_count": 53,
     "metadata": {},
     "output_type": "execute_result"
    }
   ],
   "source": [
    "import os\n",
    "\n",
    "# 현재 작업 중인 폴더의 경로를 얻기\n",
    "current_path = os.getcwd()\n",
    "current_path"
   ]
  },
  {
   "cell_type": "code",
   "execution_count": 54,
   "metadata": {},
   "outputs": [],
   "source": [
    "# 7. csv 저장하기 \n",
    "df_head.to_csv(f\"{current_path}/중앙부처_{formatted_date}.csv\")"
   ]
  },
  {
   "cell_type": "code",
   "execution_count": null,
   "metadata": {},
   "outputs": [],
   "source": []
  }
 ],
 "metadata": {
  "kernelspec": {
   "display_name": "Python 3",
   "language": "python",
   "name": "python3"
  },
  "language_info": {
   "codemirror_mode": {
    "name": "ipython",
    "version": 3
   },
   "file_extension": ".py",
   "mimetype": "text/x-python",
   "name": "python",
   "nbconvert_exporter": "python",
   "pygments_lexer": "ipython3",
   "version": "3.9.18"
  }
 },
 "nbformat": 4,
 "nbformat_minor": 2
}
